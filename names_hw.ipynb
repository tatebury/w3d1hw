{
 "cells": [
  {
   "cell_type": "markdown",
   "id": "f06845ad",
   "metadata": {},
   "source": [
    "### In-Class Exercise #3 <br>\n",
    "<p>Print each persons name and twitter handle, using groups, should look like:</p>\n",
    "<p>==============<br>\n",
    "   Full Name / Twitter<br>\n",
    "   ==============</p>\n",
    "Derek Hawkins / @derekhawkins\n",
    "\n",
    " Erik Sven-Osterberg / @sverik\n",
    "\n",
    " Ryan Butz / @ryanbutz\n",
    "\n",
    " Example Exampleson / @example\n",
    "\n",
    " Ripal Patel / @ripalp\n",
    "\n",
    " Darth Vader / @darthvader"
   ]
  },
  {
   "cell_type": "code",
   "execution_count": 5,
   "id": "3b531d42",
   "metadata": {},
   "outputs": [
    {
     "name": "stdout",
     "output_type": "stream",
     "text": [
      "=================== \n",
      "Full Name / Twitter \n",
      "===================\n",
      "Derek Hawkins / @derekhawkins\n",
      "Mo Zhai / \n",
      "Joe Johnson / \n",
      "Sven-Erik Osterberg / @sverik\n",
      " Tim / \n",
      "Ryan Butz / @ryanbutz\n",
      "The Doctor / \n",
      "Example Exampleson / @example\n",
      "Ripal Patel / @ripalp\n",
      "Darth Vader / @darthvader\n",
      "Maria Teresa Fernandez / \n"
     ]
    }
   ],
   "source": [
    "import re\n",
    "pattern = re.compile(\"\")\n",
    "people = open(\"files/names.txt\", \"r\").read()\n",
    "lines = re.findall(\"[A-Z].+\\n\", people)\n",
    "\n",
    "firstnames = []\n",
    "lastnames = []\n",
    "handles = []\n",
    "\n",
    "for line in lines:\n",
    "    sections = line.split('\\t')\n",
    "    firstnames.append(str((re.findall(\", ([A-Z].+)\", sections[0]))).strip(\"[]''\"))\n",
    "    lastnames.append(str((re.findall(\"^[A-Z]\\w+\", sections[0]))).strip(\"[]''\"))\n",
    "    if re.search('@', sections[-1]):\n",
    "        handles.append(str((re.findall(\"(@\\w+)\", sections[-1]))).strip(\"[]''\"))\n",
    "    else:\n",
    "        handles.append('')\n",
    "\n",
    "print(f\"=================== \\nFull Name / Twitter \\n===================\")\n",
    "        \n",
    "lineCount = 0  \n",
    "while lineCount < len(lines):\n",
    "    print(f\"{firstnames[lineCount]} {lastnames[lineCount]} / {handles[lineCount]}\")\n",
    "    lineCount += 1\n",
    "                              "
   ]
  }
 ],
 "metadata": {
  "kernelspec": {
   "display_name": "Python 3",
   "language": "python",
   "name": "python3"
  },
  "language_info": {
   "codemirror_mode": {
    "name": "ipython",
    "version": 3
   },
   "file_extension": ".py",
   "mimetype": "text/x-python",
   "name": "python",
   "nbconvert_exporter": "python",
   "pygments_lexer": "ipython3",
   "version": "3.8.8"
  }
 },
 "nbformat": 4,
 "nbformat_minor": 5
}
